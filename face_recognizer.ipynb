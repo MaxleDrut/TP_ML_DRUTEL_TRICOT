{
 "cells": [
  {
   "cell_type": "code",
   "execution_count": 1,
   "metadata": {},
   "outputs": [],
   "source": [
    "import numpy as np\n",
    "import torch\n",
    "import torchvision\n",
    "import cv2 as cv\n",
    "from PIL import Image\n",
    "import torchvision.transforms as transforms\n",
    "from torch.utils.data.sampler import SubsetRandomSampler\n",
    "from torchvision.transforms.autoaugment import AutoAugmentPolicy, AutoAugment\n",
    "\n",
    "from torchsampler.imbalanced import ImbalancedDatasetSampler\n",
    "from matplotlib import pyplot"
   ]
  },
  {
   "cell_type": "code",
   "execution_count": 2,
   "metadata": {},
   "outputs": [],
   "source": [
    "\n",
    "train_dir = './train_images'\n",
    "test_dir = './test_images'\n",
    "\n",
    "transform = transforms.Compose(\n",
    "    [transforms.AutoAugment(AutoAugmentPolicy.CIFAR10),\n",
    "    transforms.Grayscale(),\n",
    "    transforms.ToTensor(), \n",
    "    transforms.Normalize(mean=(0,),std=(1,))])\n",
    "\n",
    "train_data = torchvision.datasets.ImageFolder(train_dir, transform=transform)\n",
    "test_data = torchvision.datasets.ImageFolder(test_dir, transform=transform)\n",
    "\n",
    "# 20% of the train dataset will be used as a validation exercise\n",
    "valid_size = 0.2\n",
    "batch_size = 32\n",
    "\n",
    "num_train = len(train_data)\n",
    "# (0, 1, 2, 3, ..., num_train)\n",
    "indices_train = list(range(num_train))\n",
    "# Reorders the indexes randomly (so we get 7, 4, 19...)\n",
    "np.random.shuffle(indices_train)\n",
    "\n",
    "# The first valid_size% of indexes will be for validation purposes\n",
    "split_tv = int(np.floor(valid_size * num_train))\n",
    "\n",
    "# Get the indexes, split between training and validation\n",
    "train_new_idx, valid_idx = indices_train[split_tv:],indices_train[:split_tv]\n",
    "\n",
    "train_sampler = ImbalancedDatasetSampler(train_data,train_new_idx)\n",
    "valid_sampler = ImbalancedDatasetSampler(train_data,valid_idx)\n",
    "\n",
    "train_loader = torch.utils.data.DataLoader(train_data, batch_size=batch_size, sampler=train_sampler, num_workers=1)\n",
    "valid_loader = torch.utils.data.DataLoader(train_data, batch_size=batch_size, sampler=valid_sampler, num_workers=1)\n",
    "test_loader = torch.utils.data.DataLoader(test_data, batch_size=batch_size, shuffle=True, num_workers=1)\n",
    "classes = ('noface','face')"
   ]
  },
  {
   "cell_type": "code",
   "execution_count": 3,
   "metadata": {},
   "outputs": [],
   "source": [
    "import torch.nn as nn\n",
    "import torch.nn.functional as F\n",
    "\n",
    "\n",
    "class Net(nn.Module):\n",
    "    def __init__(self):\n",
    "        super(Net, self).__init__()\n",
    "        self.conv1 = nn.Conv2d(1, 18, 5)\n",
    "        self.pool = nn.MaxPool2d(2, 2)\n",
    "        self.conv2 = nn.Conv2d(18, 32, 5)\n",
    "        self.fc1 = nn.Linear(32* 6 * 6, 48)\n",
    "        self.fc2 = nn.Linear(48, 32)\n",
    "        self.fc3 = nn.Linear(32, 16)\n",
    "        self.fc4 = nn.Linear(16, 2)\n",
    "\n",
    "    def forward(self, x):\n",
    "        x = self.pool(F.relu(self.conv1(x)))\n",
    "        x = self.pool(F.relu(self.conv2(x)))\n",
    "        x = x.view(-1, 32 * 6 * 6)\n",
    "        x = F.relu(self.fc1(x))\n",
    "        x = F.relu(self.fc2(x))\n",
    "        x = F.relu(self.fc3(x))\n",
    "        x = self.fc4(x)\n",
    "        return x"
   ]
  },
  {
   "cell_type": "code",
   "execution_count": 4,
   "metadata": {},
   "outputs": [],
   "source": [
    "import torch.optim as optim\n",
    "\n",
    "device = torch.device('cuda:0' if torch.cuda.is_available() else 'cpu')\n",
    "\n",
    "network = Net()\n",
    "network.train()\n",
    "network.to(device)\n",
    "\n",
    "criterion = nn.CrossEntropyLoss()\n",
    "optimizer = optim.SGD(network.parameters(), lr = 0.001, momentum=0.9)"
   ]
  },
  {
   "cell_type": "code",
   "execution_count": 40,
   "metadata": {},
   "outputs": [
    {
     "name": "stdout",
     "output_type": "stream",
     "text": [
      "1 400 - Training loss:  0.055875842323875984  - Validation loss: 0.06728718963372383\n",
      "1 800 - Training loss:  0.05576582728477661  - Validation loss: 0.053373941522231974\n",
      "1 1200 - Training loss:  0.05462658166827168  - Validation loss: 0.055425014320167935\n",
      "1 1600 - Training loss:  0.05390745930140838  - Validation loss: 0.05483710951535258\n",
      "1 2000 - Training loss:  0.04906127435649978  - Validation loss: 0.04505401191675633\n",
      "2 400 - Training loss:  0.05225397589369095  - Validation loss: 0.04927854479930627\n",
      "2 800 - Training loss:  0.052691546106361786  - Validation loss: 0.04910098677375337\n",
      "2 1200 - Training loss:  0.04989307488925988  - Validation loss: 0.043250009099318476\n",
      "2 1600 - Training loss:  0.05478529603773495  - Validation loss: 0.06911570874962775\n",
      "2 2000 - Training loss:  0.04271277585241478  - Validation loss: 0.046251806998398245\n",
      "3 400 - Training loss:  0.04494143094256287  - Validation loss: 0.045137327543572595\n",
      "3 800 - Training loss:  0.04510690082839574  - Validation loss: 0.04730226673470374\n"
     ]
    }
   ],
   "source": [
    "epoch = 1\n",
    "max_epoch = 5\n",
    "print_every_n_batch = 400\n",
    "\n",
    "best_network: Net = network\n",
    "best_loss_validation = 999999999\n",
    "steps_since_last_best = 0\n",
    "threshold_early_stopping = 4 # Stop after 4 iterations without a new best network\n",
    "best_model_found = False\n",
    "\n",
    "# Save the values as we train for plotting\n",
    "training_loss_values = []\n",
    "validation_loss_values = []\n",
    "epoch_values = []\n",
    "\n",
    "while not best_model_found and epoch <= max_epoch:\n",
    "\n",
    "    total_loss_training = 0.0\n",
    "    i = 0\n",
    "    \n",
    "    for data_training, target_training in train_loader:\n",
    "\n",
    "        optimizer.zero_grad()\n",
    "        inputs, labels = data_training.to(device), target_training.to(device)\n",
    "\n",
    "        outputs = network(inputs)\n",
    "        loss = criterion(outputs, labels)\n",
    "        loss.backward()\n",
    "        optimizer.step()\n",
    "\n",
    "        total_loss_training += loss.item()\n",
    "\n",
    "        #Every 400 batches, we test the model on the validation data\n",
    "        if i % print_every_n_batch == print_every_n_batch - 1:    # print every n mini-batches\n",
    "            running_loss_training = total_loss_training / print_every_n_batch\n",
    "            total_loss_training = 0.0\n",
    "            total_loss_validation = 0.0\n",
    "\n",
    "\n",
    "            # We feed the validation data to the network\n",
    "            for data_valid, labels_valid in valid_loader:\n",
    "                images, labels = data_valid.to(device), labels_valid.to(device)\n",
    "                outputs = network(images)\n",
    "                loss = criterion(outputs,labels)\n",
    "                total_loss_validation += loss.item()\n",
    "            \n",
    "            running_loss_validation = total_loss_validation / len(valid_loader)\n",
    "\n",
    "            print(epoch, i+1, \"-\", \"Training loss: \", running_loss_training, \" - Validation loss:\", running_loss_validation)\n",
    "            validation_loss_values.append(running_loss_validation)\n",
    "            training_loss_values.append(running_loss_training)\n",
    "            epoch_values.append(epoch + i/len(train_loader))\n",
    "\n",
    "            if(running_loss_validation < best_loss_validation):\n",
    "                best_loss_validation = running_loss_validation\n",
    "                best_network = network\n",
    "                steps_since_last_best = 0\n",
    "            else:\n",
    "                steps_since_last_best += 1\n",
    "\n",
    "            if steps_since_last_best >= threshold_early_stopping:\n",
    "                best_model_found = True\n",
    "                break\n",
    "\n",
    "        i += 1\n",
    "\n",
    "    epoch += 1\n",
    "\n",
    "network = best_network"
   ]
  },
  {
   "cell_type": "code",
   "execution_count": 41,
   "metadata": {},
   "outputs": [
    {
     "data": {
      "text/plain": [
       "<matplotlib.legend.Legend at 0x1399d99c3d0>"
      ]
     },
     "execution_count": 41,
     "metadata": {},
     "output_type": "execute_result"
    },
    {
     "data": {
      "image/png": "[encoded data removed]",
      "text/plain": [
       "<Figure size 100x250 with 1 Axes>"
      ]
     },
     "metadata": {},
     "output_type": "display_data"
    }
   ],
   "source": [
    "# Plot the values:\n",
    "pyplot.rcParams[\"figure.figsize\"] = (1,2.5)\n",
    "loss_figure = pyplot.figure()\n",
    "loss_figure = loss_figure.add_axes([0,0,max(epoch_values)+1,1])\n",
    "loss_figure.plot(epoch_values, training_loss_values, label=\"Training loss\")\n",
    "loss_figure.plot(epoch_values, validation_loss_values, label=\"Validation loss\")\n",
    "loss_figure.set_xlabel(\"Epoch\")\n",
    "loss_figure.set_ylabel(\"Cross Entropy Loss\")\n",
    "loss_figure.legend()\n"
   ]
  },
  {
   "cell_type": "code",
   "execution_count": 42,
   "metadata": {},
   "outputs": [],
   "source": [
    "# Saving the model\n",
    "torch.save(network.state_dict(), \"./face_recognizer_after_retrain.pt\")"
   ]
  },
  {
   "cell_type": "code",
   "execution_count": 5,
   "metadata": {},
   "outputs": [
    {
     "data": {
      "text/plain": [
       "Net(\n",
       "  (conv1): Conv2d(1, 18, kernel_size=(5, 5), stride=(1, 1))\n",
       "  (pool): MaxPool2d(kernel_size=2, stride=2, padding=0, dilation=1, ceil_mode=False)\n",
       "  (conv2): Conv2d(18, 32, kernel_size=(5, 5), stride=(1, 1))\n",
       "  (fc1): Linear(in_features=1152, out_features=48, bias=True)\n",
       "  (fc2): Linear(in_features=48, out_features=32, bias=True)\n",
       "  (fc3): Linear(in_features=32, out_features=16, bias=True)\n",
       "  (fc4): Linear(in_features=16, out_features=2, bias=True)\n",
       ")"
      ]
     },
     "execution_count": 5,
     "metadata": {},
     "output_type": "execute_result"
    }
   ],
   "source": [
    "# Loading the model\n",
    "network = Net()\n",
    "network.load_state_dict(torch.load(\"./face_recognizer_after_retrain.pt\"))\n",
    "network.to(device)"
   ]
  },
  {
   "cell_type": "code",
   "execution_count": 43,
   "metadata": {},
   "outputs": [
    {
     "name": "stdout",
     "output_type": "stream",
     "text": [
      "Accuracy of the network on the 10000 test images: 96.05 %\n"
     ]
    }
   ],
   "source": [
    "correct = 0\n",
    "total = 0\n",
    "with torch.no_grad():\n",
    "    for imgs, labls in test_loader:\n",
    "        images, labels = imgs.to(device), labls.to(device)\n",
    "        outputs = network(images)\n",
    "        _, predicted = torch.max(outputs.data, 1)\n",
    "        total += labels.size(0)\n",
    "        correct += (predicted == labels).sum().item()\n",
    "\n",
    "print('Accuracy of the network on the 10000 test images: %2.2f %%' % (\n",
    "    100 * correct / total))"
   ]
  },
  {
   "cell_type": "code",
   "execution_count": 7,
   "metadata": {},
   "outputs": [
    {
     "data": {
      "text/plain": [
       "-1"
      ]
     },
     "execution_count": 7,
     "metadata": {},
     "output_type": "execute_result"
    }
   ],
   "source": [
    "original_image = cv.imread('./corpo.png')\n",
    "\n",
    "# Create the sub-images of the original image with the sliding window\n",
    "window_size_x = 36\n",
    "window_size_y = 36\n",
    "face_radius = window_size_x\n",
    "total_scaling = 1\n",
    "\n",
    "transform = transforms.Compose(\n",
    "    [ transforms.Grayscale(),\n",
    "    transforms.ToTensor(), \n",
    "    transforms.Normalize(mean=(0,),std=(1,))])\n",
    "\n",
    "\n",
    "to_detect = original_image \n",
    "\n",
    "network.to(device)\n",
    "\n",
    "while(to_detect.shape[0] > window_size_y and to_detect.shape[1] > window_size_x) :\n",
    "    for y_window in range(0, to_detect.shape[0],window_size_y):\n",
    "        for x_window in range(0, to_detect.shape[1], window_size_x):\n",
    "            # Extract image:\n",
    "            sub_image = to_detect[\n",
    "                y_window:y_window+window_size_y,\n",
    "                x_window:x_window+window_size_x,\n",
    "            ]\n",
    "            sub_image_PIL = Image.fromarray(sub_image)\n",
    "            sub_image_PIL = sub_image_PIL.resize((36,36))\n",
    "            sub_image_PIL = transform(sub_image_PIL)\n",
    "\n",
    "            input = sub_image_PIL.to(device)\n",
    "            outputs = network(input)\n",
    "            predicted = torch.softmax(outputs.data, 1)\n",
    "            face_probability = predicted[0][1].item()\n",
    "\n",
    "            if(face_probability > 0.90):\n",
    "                x_back_to_scale = int(x_window/total_scaling)\n",
    "                y_back_to_scale = int(y_window+18/total_scaling)\n",
    "                radius_scaled = int(face_radius/total_scaling)\n",
    "                cv.rectangle(\n",
    "                    original_image, \n",
    "                    (x_back_to_scale, y_back_to_scale),\n",
    "                    (x_back_to_scale+radius_scaled, y_back_to_scale+radius_scaled),\n",
    "                    (0, 255, 0),\n",
    "                    2\n",
    "                )\n",
    "\n",
    "            x_window += 1\n",
    "        \n",
    "        y_window += 1\n",
    "     \n",
    "    step_scaling = 0.95   # percent of original size\n",
    "    total_scaling = total_scaling*step_scaling\n",
    "    width = int(to_detect.shape[1] * step_scaling)\n",
    "    height = int(to_detect.shape[0] * step_scaling)\n",
    "    dim = (width, height)\n",
    "\n",
    "    to_detect = cv.resize(to_detect, dim, interpolation = cv.INTER_AREA)\n",
    "\n",
    "cv.imshow(\"img\",original_image)\n",
    "cv.waitKey(0)"
   ]
  },
  {
   "cell_type": "markdown",
   "metadata": {},
   "source": [
    "We see that our recognizer finds the faces, but also a lot of non faces.\n",
    "We therefore give the image of our hikers in the forest without their faces, and use the mini patches as pre-labelled dataset to retrain the model (as we know they will not have a face)"
   ]
  },
  {
   "cell_type": "code",
   "execution_count": 44,
   "metadata": {},
   "outputs": [
    {
     "name": "stdout",
     "output_type": "stream",
     "text": [
      "Image number 1 - Subimages created: 0\n",
      "Image number 2 - Subimages created: 27\n",
      "Image number 3 - Subimages created: 46\n",
      "Image number 4 - Subimages created: 408\n",
      "Image number 5 - Subimages created: 408\n",
      "Image number 6 - Subimages created: 408\n",
      "Image number 7 - Subimages created: 414\n",
      "Image number 8 - Subimages created: 475\n",
      "Image number 9 - Subimages created: 635\n",
      "Image number 10 - Subimages created: 2150\n",
      "Image number 11 - Subimages created: 2289\n",
      "Image number 12 - Subimages created: 2376\n",
      "Image number 13 - Subimages created: 2582\n",
      "Image number 14 - Subimages created: 2696\n",
      "Image number 15 - Subimages created: 2696\n",
      "Image number 16 - Subimages created: 10525\n",
      "Image number 17 - Subimages created: 10559\n",
      "Image number 18 - Subimages created: 11066\n",
      "Image number 19 - Subimages created: 11170\n",
      "Image number 20 - Subimages created: 11649\n",
      "Image number 21 - Subimages created: 11675\n",
      "Image number 22 - Subimages created: 11703\n",
      "Image number 23 - Subimages created: 11811\n",
      "Image number 24 - Subimages created: 12038\n",
      "Image number 25 - Subimages created: 12038\n",
      "Image number 26 - Subimages created: 12041\n",
      "Image number 27 - Subimages created: 12061\n",
      "Image number 28 - Subimages created: 12061\n",
      "Image number 29 - Subimages created: 12089\n",
      "Image number 30 - Subimages created: 12373\n",
      "Image number 31 - Subimages created: 12392\n",
      "Image number 32 - Subimages created: 12392\n",
      "Image number 33 - Subimages created: 12405\n"
     ]
    }
   ],
   "source": [
    "# Create the new sub-images\n",
    "import os\n",
    "\n",
    "# Load the images of the folder\n",
    "texture_directory = 'texture_images'\n",
    "texture_images = [] \n",
    "# iterate over files in\n",
    "# that directory\n",
    "for filename in os.listdir(texture_directory):\n",
    "    f = os.path.join(texture_directory, filename)\n",
    "    # checking if it is a file\n",
    "    if os.path.isfile(f):\n",
    "        texture_images.append(cv.imread(f))\n",
    "\n",
    "# Create the sub-images of the original image with the sliding window\n",
    "window_size_x = 36\n",
    "window_size_y = 36\n",
    "face_radius = window_size_x\n",
    "total_scaling = 1\n",
    "\n",
    "transform = transforms.Compose(\n",
    "    [ transforms.Grayscale(),\n",
    "    transforms.ToTensor(), \n",
    "    transforms.Normalize(mean=(0,),std=(1,))])\n",
    "\n",
    "\n",
    "step_scaling = 0.90\n",
    "face_probability_thresh = 0.1\n",
    "image_number = 1\n",
    "sub_images_created = 0\n",
    "\n",
    "for to_detect in texture_images:\n",
    "    print(\"Image number \"+str(image_number)+\" - Subimages created: \"+str(sub_images_created))\n",
    "    while(to_detect.shape[0] > window_size_y and to_detect.shape[1] > window_size_x) :\n",
    "        for y_window in range(0, to_detect.shape[0],window_size_y):\n",
    "            for x_window in range(0, to_detect.shape[1], window_size_x):\n",
    "                # Extract image:\n",
    "                sub_image = to_detect[\n",
    "                    y_window:y_window+window_size_y,\n",
    "                    x_window:x_window+window_size_x,\n",
    "                ]\n",
    "\n",
    "                sub_image = cv.resize(sub_image, (36, 36))\n",
    "                sub_image_PIL = Image.fromarray(sub_image)\n",
    "                sub_image_PIL = sub_image_PIL.resize((36,36))\n",
    "                sub_image_PIL = transform(sub_image_PIL)\n",
    "\n",
    "                input = sub_image_PIL.to(device)\n",
    "                outputs = network(input)\n",
    "                predicted = torch.softmax(outputs.data, 1)\n",
    "                face_probability = predicted[0][1].item()\n",
    "\n",
    "                if(face_probability > face_probability_thresh):\n",
    "                    sub_image_name = \"./new_subimages/\" + str(image_number) + \"-\" + str(x_window) + \"-\" + str(y_window) + \"x\" + str(total_scaling) + \".pgm\"\n",
    "                    sub_image = cv.cvtColor(sub_image, cv.COLOR_BGR2GRAY)\n",
    "                    cv.imwrite(sub_image_name, sub_image)\n",
    "                    sub_images_created += 1\n",
    "        \n",
    "                x_window += 1\n",
    "            y_window += 1\n",
    "        \n",
    "        total_scaling = total_scaling*step_scaling\n",
    "        width = int(to_detect.shape[1] * step_scaling)\n",
    "        height = int(to_detect.shape[0] * step_scaling)\n",
    "        dim = (width, height)\n",
    "        to_detect = cv.resize(to_detect, dim, interpolation = cv.INTER_AREA)\n",
    "    \n",
    "    image_number += 1"
   ]
  }
 ],
 "metadata": {
  "kernelspec": {
   "display_name": "Python 3.9.0 64-bit",
   "language": "python",
   "name": "python3"
  },
  "language_info": {
   "codemirror_mode": {
    "name": "ipython",
    "version": 3
   },
   "file_extension": ".py",
   "mimetype": "text/x-python",
   "name": "python",
   "nbconvert_exporter": "python",
   "pygments_lexer": "ipython3",
   "version": "3.9.0"
  },
  "orig_nbformat": 4,
  "vscode": {
   "interpreter": {
    "hash": "c56874b59277349bf472b3f19dc5e9ff1b8fe11858b83d154515d52757e9b043"
   }
  }
 },
 "nbformat": 4,
 "nbformat_minor": 2
}
